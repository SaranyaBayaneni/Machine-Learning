{
  "cells": [
    {
      "cell_type": "markdown",
      "metadata": {
        "id": "view-in-github",
        "colab_type": "text"
      },
      "source": [
        "<a href=\"https://colab.research.google.com/github/SaranyaBayaneni/Machine-Learning/blob/main/Bayes_classifier.ipynb\" target=\"_parent\"><img src=\"https://colab.research.google.com/assets/colab-badge.svg\" alt=\"Open In Colab\"/></a>"
      ]
    },
    {
      "cell_type": "code",
      "execution_count": null,
      "id": "c0fc74f1",
      "metadata": {
        "id": "c0fc74f1"
      },
      "outputs": [],
      "source": [
        "import pandas as pd\n",
        "import numpy as np\n",
        "import matplotlib.pyplot as plt\n",
        "import seaborn as sns\n",
        "from sklearn import preprocessing\n",
        "from sklearn.model_selection import train_test_split\n",
        "from sklearn.naive_bayes import GaussianNB\n",
        "from sklearn import metrics"
      ]
    },
    {
      "cell_type": "code",
      "execution_count": null,
      "id": "c83c634a",
      "metadata": {
        "id": "c83c634a",
        "outputId": "74c89556-780a-430d-d8c2-2b7499500265"
      },
      "outputs": [
        {
          "name": "stdout",
          "output_type": "stream",
          "text": [
            "     SepalLengthCm  SepalWidthCm  PetalLengthCm  PetalWidthCm         Species\n",
            "0              5.1           3.5            1.4           0.2     Iris-setosa\n",
            "1              4.9           3.0            1.4           0.2     Iris-setosa\n",
            "2              4.7           3.2            1.3           0.2     Iris-setosa\n",
            "3              4.6           3.1            1.5           0.2     Iris-setosa\n",
            "4              5.0           3.6            1.4           0.2     Iris-setosa\n",
            "..             ...           ...            ...           ...             ...\n",
            "145            6.7           3.0            5.2           2.3  Iris-virginica\n",
            "146            6.3           2.5            5.0           1.9  Iris-virginica\n",
            "147            6.5           3.0            5.2           2.0  Iris-virginica\n",
            "148            6.2           3.4            5.4           2.3  Iris-virginica\n",
            "149            5.9           3.0            5.1           1.8  Iris-virginica\n",
            "\n",
            "[150 rows x 5 columns]\n"
          ]
        }
      ],
      "source": [
        "df=pd.read_csv(\"iris.csv\")\n",
        "X,Y= df.iloc[:, 0:-1],df[\"Species\"]\n",
        "X_train, X_test, Y_train, Y_test = train_test_split( X, Y,\n",
        "test_size=0.30)\n",
        "gnb_model = GaussianNB()\n",
        "gnb_model.fit(X_train, Y_train)\n",
        "Y_pred_class=gnb_model.predict(X_test)\n",
        "print(df)"
      ]
    },
    {
      "cell_type": "code",
      "execution_count": null,
      "id": "a17ab187",
      "metadata": {
        "id": "a17ab187",
        "outputId": "17a7cb1e-e0bb-469b-c110-7de15c44d073"
      },
      "outputs": [
        {
          "name": "stdout",
          "output_type": "stream",
          "text": [
            "0.8888888888888888\n",
            "0.8888888888888888\n",
            "0.8888888888888888\n",
            "[[14  0  0]\n",
            " [ 0 13  4]\n",
            " [ 0  1 13]]\n"
          ]
        }
      ],
      "source": [
        "Y_pred_prob=gnb_model.predict_proba(X_test)\n",
        "print((Y_pred_class==Y_test).sum()/Y_test.shape[0])\n",
        "print(gnb_model.score(X_test,Y_test))\n",
        "print(metrics.accuracy_score(Y_test,Y_pred_class))\n",
        "print(metrics.confusion_matrix(Y_test,Y_pred_class))"
      ]
    },
    {
      "cell_type": "code",
      "execution_count": null,
      "id": "18b0efda",
      "metadata": {
        "id": "18b0efda"
      },
      "outputs": [],
      "source": []
    }
  ],
  "metadata": {
    "kernelspec": {
      "display_name": "Python 3 (ipykernel)",
      "language": "python",
      "name": "python3"
    },
    "language_info": {
      "codemirror_mode": {
        "name": "ipython",
        "version": 3
      },
      "file_extension": ".py",
      "mimetype": "text/x-python",
      "name": "python",
      "nbconvert_exporter": "python",
      "pygments_lexer": "ipython3",
      "version": "3.11.4"
    },
    "colab": {
      "provenance": [],
      "include_colab_link": true
    }
  },
  "nbformat": 4,
  "nbformat_minor": 5
}